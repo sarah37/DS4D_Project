{
 "cells": [
  {
   "cell_type": "markdown",
   "metadata": {},
   "source": [
    "First, import the relevant libraries"
   ]
  },
  {
   "cell_type": "code",
   "execution_count": 1,
   "metadata": {},
   "outputs": [],
   "source": [
    "import pandas as pd\n",
    "import numpy as np"
   ]
  },
  {
   "cell_type": "markdown",
   "metadata": {},
   "source": [
    "load the data from the supplied excel data file and see the sheetnames available"
   ]
  },
  {
   "cell_type": "code",
   "execution_count": 2,
   "metadata": {},
   "outputs": [
    {
     "data": {
      "text/plain": [
       "['Gender',\n",
       " 'Age',\n",
       " 'Ethnicity',\n",
       " 'Religion',\n",
       " 'Sexual Orientation',\n",
       " 'Deprivation',\n",
       " 'Urban Rural',\n",
       " 'Work Status',\n",
       " 'Carers',\n",
       " 'Health Status',\n",
       " 'Day to day Activities',\n",
       " 'Interpreter',\n",
       " 'Long-term Condition',\n",
       " 'GP Practice Size',\n",
       " '% List in Deprived Areas',\n",
       " 'Freq. Contact',\n",
       " 'OOH - First Service',\n",
       " 'OOH - Last Service']"
      ]
     },
     "execution_count": 2,
     "metadata": {},
     "output_type": "execute_result"
    }
   ],
   "source": [
    "data = pd.ExcelFile('ASDHD - Health and Care Experience Survey - 2017 -     Variations Analysis -....xls')\n",
    "data.sheet_names"
   ]
  },
  {
   "cell_type": "markdown",
   "metadata": {},
   "source": [
    "Our group got a Excel file with 18 sheets, we decide that every one of us take 6 sheets. My part is the last 6 sheets and after looking at the data, I choose \"GP Practice Size\" to do my assignment2."
   ]
  },
  {
   "cell_type": "markdown",
   "metadata": {},
   "source": [
    "# Cleaning"
   ]
  },
  {
   "cell_type": "markdown",
   "metadata": {},
   "source": [
    "First choose \"GP Practice Size\" sheet. With observing the sheet, we can see the first two rows are description for the sheet, so when reading the data, we can just skip the first two rows."
   ]
  },
  {
   "cell_type": "code",
   "execution_count": 3,
   "metadata": {},
   "outputs": [
    {
     "data": {
      "text/html": [
       "<div>\n",
       "<style scoped>\n",
       "    .dataframe tbody tr th:only-of-type {\n",
       "        vertical-align: middle;\n",
       "    }\n",
       "\n",
       "    .dataframe tbody tr th {\n",
       "        vertical-align: top;\n",
       "    }\n",
       "\n",
       "    .dataframe thead th {\n",
       "        text-align: right;\n",
       "    }\n",
       "</style>\n",
       "<table border=\"1\" class=\"dataframe\">\n",
       "  <thead>\n",
       "    <tr style=\"text-align: right;\">\n",
       "      <th></th>\n",
       "      <th>Theme</th>\n",
       "      <th>Question</th>\n",
       "      <th>&lt; 2,500</th>\n",
       "      <th>5,000 - 7,499</th>\n",
       "      <th>7,500 - 9,999</th>\n",
       "      <th>10,000+</th>\n",
       "      <th>COL1</th>\n",
       "      <th>COL2</th>\n",
       "      <th>COL3</th>\n",
       "      <th>COL4</th>\n",
       "    </tr>\n",
       "  </thead>\n",
       "  <tbody>\n",
       "    <tr>\n",
       "      <th>0</th>\n",
       "      <td>Access</td>\n",
       "      <td>Thinking of the last time you contacted this G...</td>\n",
       "      <td>3.750</td>\n",
       "      <td>0.484</td>\n",
       "      <td>0.356</td>\n",
       "      <td>0.363</td>\n",
       "      <td>+</td>\n",
       "      <td>-</td>\n",
       "      <td>-</td>\n",
       "      <td>-</td>\n",
       "    </tr>\n",
       "    <tr>\n",
       "      <th>1</th>\n",
       "      <td>Access</td>\n",
       "      <td>NaN</td>\n",
       "      <td>(2.958 ,4.754)</td>\n",
       "      <td>(0.395 ,0.594)</td>\n",
       "      <td>(0.283 ,0.449)</td>\n",
       "      <td>(0.279 ,0.472)</td>\n",
       "      <td>+</td>\n",
       "      <td>-</td>\n",
       "      <td>-</td>\n",
       "      <td>-</td>\n",
       "    </tr>\n",
       "    <tr>\n",
       "      <th>2</th>\n",
       "      <td>Access</td>\n",
       "      <td>The last time you phoned the GP surgery, how h...</td>\n",
       "      <td>1.962</td>\n",
       "      <td>0.668</td>\n",
       "      <td>0.558</td>\n",
       "      <td>0.521</td>\n",
       "      <td>+</td>\n",
       "      <td>-</td>\n",
       "      <td>-</td>\n",
       "      <td>-</td>\n",
       "    </tr>\n",
       "    <tr>\n",
       "      <th>3</th>\n",
       "      <td>Access</td>\n",
       "      <td>NaN</td>\n",
       "      <td>(1.619 ,2.378)</td>\n",
       "      <td>(0.574 ,0.778)</td>\n",
       "      <td>(0.471 ,0.661)</td>\n",
       "      <td>(0.430 ,0.631)</td>\n",
       "      <td>+</td>\n",
       "      <td>-</td>\n",
       "      <td>-</td>\n",
       "      <td>-</td>\n",
       "    </tr>\n",
       "    <tr>\n",
       "      <th>4</th>\n",
       "      <td>Access</td>\n",
       "      <td>The last time you needed to see or speak to a ...</td>\n",
       "      <td>2.166</td>\n",
       "      <td>0.859</td>\n",
       "      <td>0.766</td>\n",
       "      <td>0.653</td>\n",
       "      <td>+</td>\n",
       "      <td>-</td>\n",
       "      <td>-</td>\n",
       "      <td>-</td>\n",
       "    </tr>\n",
       "    <tr>\n",
       "      <th>5</th>\n",
       "      <td>Access</td>\n",
       "      <td>NaN</td>\n",
       "      <td>(1.865 ,2.517)</td>\n",
       "      <td>(0.756 ,0.977)</td>\n",
       "      <td>(0.663 ,0.884)</td>\n",
       "      <td>(0.555 ,0.770)</td>\n",
       "      <td>+</td>\n",
       "      <td>-</td>\n",
       "      <td>-</td>\n",
       "      <td>-</td>\n",
       "    </tr>\n",
       "    <tr>\n",
       "      <th>6</th>\n",
       "      <td>Access</td>\n",
       "      <td>If you ask to make an appointment with a docto...</td>\n",
       "      <td>2.281</td>\n",
       "      <td>0.473</td>\n",
       "      <td>0.425</td>\n",
       "      <td>0.531</td>\n",
       "      <td>+</td>\n",
       "      <td>-</td>\n",
       "      <td>-</td>\n",
       "      <td>-</td>\n",
       "    </tr>\n",
       "    <tr>\n",
       "      <th>7</th>\n",
       "      <td>Access</td>\n",
       "      <td>NaN</td>\n",
       "      <td>(1.810 ,2.875)</td>\n",
       "      <td>(0.384 ,0.583)</td>\n",
       "      <td>(0.336 ,0.537)</td>\n",
       "      <td>(0.406 ,0.695)</td>\n",
       "      <td>+</td>\n",
       "      <td>-</td>\n",
       "      <td>-</td>\n",
       "      <td>-</td>\n",
       "    </tr>\n",
       "    <tr>\n",
       "      <th>8</th>\n",
       "      <td>Access</td>\n",
       "      <td>When you arrange to see a doctor at your GP su...</td>\n",
       "      <td>2.395</td>\n",
       "      <td>0.510</td>\n",
       "      <td>0.425</td>\n",
       "      <td>0.370</td>\n",
       "      <td>+</td>\n",
       "      <td>-</td>\n",
       "      <td>-</td>\n",
       "      <td>-</td>\n",
       "    </tr>\n",
       "    <tr>\n",
       "      <th>9</th>\n",
       "      <td>Access</td>\n",
       "      <td>NaN</td>\n",
       "      <td>(2.005 ,2.861)</td>\n",
       "      <td>(0.438 ,0.593)</td>\n",
       "      <td>(0.358 ,0.504)</td>\n",
       "      <td>(0.304 ,0.449)</td>\n",
       "      <td>+</td>\n",
       "      <td>-</td>\n",
       "      <td>-</td>\n",
       "      <td>-</td>\n",
       "    </tr>\n",
       "  </tbody>\n",
       "</table>\n",
       "</div>"
      ],
      "text/plain": [
       "    Theme                                           Question         < 2,500  \\\n",
       "0  Access  Thinking of the last time you contacted this G...           3.750   \n",
       "1  Access                                                NaN  (2.958 ,4.754)   \n",
       "2  Access  The last time you phoned the GP surgery, how h...           1.962   \n",
       "3  Access                                                NaN  (1.619 ,2.378)   \n",
       "4  Access  The last time you needed to see or speak to a ...           2.166   \n",
       "5  Access                                                NaN  (1.865 ,2.517)   \n",
       "6  Access  If you ask to make an appointment with a docto...           2.281   \n",
       "7  Access                                                NaN  (1.810 ,2.875)   \n",
       "8  Access  When you arrange to see a doctor at your GP su...           2.395   \n",
       "9  Access                                                NaN  (2.005 ,2.861)   \n",
       "\n",
       "    5,000 - 7,499   7,500 - 9,999         10,000+ COL1 COL2 COL3 COL4  \n",
       "0           0.484           0.356           0.363    +    -    -    -  \n",
       "1  (0.395 ,0.594)  (0.283 ,0.449)  (0.279 ,0.472)    +    -    -    -  \n",
       "2           0.668           0.558           0.521    +    -    -    -  \n",
       "3  (0.574 ,0.778)  (0.471 ,0.661)  (0.430 ,0.631)    +    -    -    -  \n",
       "4           0.859           0.766           0.653    +    -    -    -  \n",
       "5  (0.756 ,0.977)  (0.663 ,0.884)  (0.555 ,0.770)    +    -    -    -  \n",
       "6           0.473           0.425           0.531    +    -    -    -  \n",
       "7  (0.384 ,0.583)  (0.336 ,0.537)  (0.406 ,0.695)    +    -    -    -  \n",
       "8           0.510           0.425           0.370    +    -    -    -  \n",
       "9  (0.438 ,0.593)  (0.358 ,0.504)  (0.304 ,0.449)    +    -    -    -  "
      ]
     },
     "execution_count": 3,
     "metadata": {},
     "output_type": "execute_result"
    }
   ],
   "source": [
    "df_GPSize = pd.read_excel(data, 'GP Practice Size',skiprows=2)  \n",
    "df_GPSize.head(10)"
   ]
  },
  {
   "cell_type": "markdown",
   "metadata": {},
   "source": [
    "In this sheet,each even row shows the odds ratio for specific question and the odd row shows the confidence interval for the odds ratio. Also, the columns \"COL1\",\"COL2\",\"COL3\" and \"COL4\" show whether there is significant association in different groups, with \"+\"(odd ratio>1,confidence interval >1) means positive association, \"-\"(odds ratio<1, confidence interval <1) means negative association and \"N\"(confidece interval includes 1) means there is no association. The value of the odds ratio indicates the strength of the association.\n",
    "\n",
    "I split the odd and even rows into different dataframe(df_GPSize_OR and df_GPSize_ORConfidence) and concentrate on the odds ratio one because with \"COL1\" \"COL2\" \"COL3\" and \"COL4\" we can still have the information about confidence interval"
   ]
  },
  {
   "cell_type": "code",
   "execution_count": 4,
   "metadata": {},
   "outputs": [
    {
     "name": "stdout",
     "output_type": "stream",
     "text": [
      "<class 'pandas.core.frame.DataFrame'>\n",
      "RangeIndex: 28 entries, 0 to 54\n",
      "Data columns (total 10 columns):\n",
      "Theme            28 non-null object\n",
      "Question         28 non-null object\n",
      "< 2,500          28 non-null object\n",
      "5,000 - 7,499    28 non-null object\n",
      "7,500 - 9,999    28 non-null object\n",
      "10,000+          28 non-null object\n",
      "COL1             28 non-null object\n",
      "COL2             28 non-null object\n",
      "COL3             28 non-null object\n",
      "COL4             28 non-null object\n",
      "dtypes: object(10)\n",
      "memory usage: 2.3+ KB\n"
     ]
    }
   ],
   "source": [
    "df_GPSize_OR = df_GPSize.iloc[0::2, :] \n",
    "df_GPSize_ORConfidence = df_GPSize.iloc[1::2, :]\n",
    "df_GPSize_OR.info()"
   ]
  },
  {
   "cell_type": "markdown",
   "metadata": {},
   "source": [
    "From the structure of the data, we can see all of them are the \"object\" type now, so I need to change some columns' data type to float with the df.apply() and pd.to_numeric function,"
   ]
  },
  {
   "cell_type": "code",
   "execution_count": 5,
   "metadata": {},
   "outputs": [
    {
     "name": "stdout",
     "output_type": "stream",
     "text": [
      "<class 'pandas.core.frame.DataFrame'>\n",
      "RangeIndex: 28 entries, 0 to 27\n",
      "Data columns (total 10 columns):\n",
      "Theme            28 non-null object\n",
      "Question         28 non-null object\n",
      "< 2,500          28 non-null float64\n",
      "5,000 - 7,499    28 non-null float64\n",
      "7,500 - 9,999    28 non-null float64\n",
      "10,000+          28 non-null float64\n",
      "COL1             28 non-null object\n",
      "COL2             28 non-null object\n",
      "COL3             28 non-null object\n",
      "COL4             28 non-null object\n",
      "dtypes: float64(4), object(6)\n",
      "memory usage: 2.3+ KB\n"
     ]
    },
    {
     "data": {
      "text/html": [
       "<div>\n",
       "<style scoped>\n",
       "    .dataframe tbody tr th:only-of-type {\n",
       "        vertical-align: middle;\n",
       "    }\n",
       "\n",
       "    .dataframe tbody tr th {\n",
       "        vertical-align: top;\n",
       "    }\n",
       "\n",
       "    .dataframe thead th {\n",
       "        text-align: right;\n",
       "    }\n",
       "</style>\n",
       "<table border=\"1\" class=\"dataframe\">\n",
       "  <thead>\n",
       "    <tr style=\"text-align: right;\">\n",
       "      <th></th>\n",
       "      <th>Theme</th>\n",
       "      <th>Question</th>\n",
       "      <th>&lt; 2,500</th>\n",
       "      <th>5,000 - 7,499</th>\n",
       "      <th>7,500 - 9,999</th>\n",
       "      <th>10,000+</th>\n",
       "      <th>COL1</th>\n",
       "      <th>COL2</th>\n",
       "      <th>COL3</th>\n",
       "      <th>COL4</th>\n",
       "    </tr>\n",
       "  </thead>\n",
       "  <tbody>\n",
       "    <tr>\n",
       "      <th>0</th>\n",
       "      <td>Access</td>\n",
       "      <td>Thinking of the last time you contacted this G...</td>\n",
       "      <td>3.750</td>\n",
       "      <td>0.484</td>\n",
       "      <td>0.356</td>\n",
       "      <td>0.363</td>\n",
       "      <td>+</td>\n",
       "      <td>-</td>\n",
       "      <td>-</td>\n",
       "      <td>-</td>\n",
       "    </tr>\n",
       "    <tr>\n",
       "      <th>1</th>\n",
       "      <td>Access</td>\n",
       "      <td>The last time you phoned the GP surgery, how h...</td>\n",
       "      <td>1.962</td>\n",
       "      <td>0.668</td>\n",
       "      <td>0.558</td>\n",
       "      <td>0.521</td>\n",
       "      <td>+</td>\n",
       "      <td>-</td>\n",
       "      <td>-</td>\n",
       "      <td>-</td>\n",
       "    </tr>\n",
       "    <tr>\n",
       "      <th>2</th>\n",
       "      <td>Access</td>\n",
       "      <td>The last time you needed to see or speak to a ...</td>\n",
       "      <td>2.166</td>\n",
       "      <td>0.859</td>\n",
       "      <td>0.766</td>\n",
       "      <td>0.653</td>\n",
       "      <td>+</td>\n",
       "      <td>-</td>\n",
       "      <td>-</td>\n",
       "      <td>-</td>\n",
       "    </tr>\n",
       "    <tr>\n",
       "      <th>3</th>\n",
       "      <td>Access</td>\n",
       "      <td>If you ask to make an appointment with a docto...</td>\n",
       "      <td>2.281</td>\n",
       "      <td>0.473</td>\n",
       "      <td>0.425</td>\n",
       "      <td>0.531</td>\n",
       "      <td>+</td>\n",
       "      <td>-</td>\n",
       "      <td>-</td>\n",
       "      <td>-</td>\n",
       "    </tr>\n",
       "    <tr>\n",
       "      <th>4</th>\n",
       "      <td>Access</td>\n",
       "      <td>When you arrange to see a doctor at your GP su...</td>\n",
       "      <td>2.395</td>\n",
       "      <td>0.510</td>\n",
       "      <td>0.425</td>\n",
       "      <td>0.370</td>\n",
       "      <td>+</td>\n",
       "      <td>-</td>\n",
       "      <td>-</td>\n",
       "      <td>-</td>\n",
       "    </tr>\n",
       "  </tbody>\n",
       "</table>\n",
       "</div>"
      ],
      "text/plain": [
       "    Theme                                           Question  < 2,500  \\\n",
       "0  Access  Thinking of the last time you contacted this G...    3.750   \n",
       "1  Access  The last time you phoned the GP surgery, how h...    1.962   \n",
       "2  Access  The last time you needed to see or speak to a ...    2.166   \n",
       "3  Access  If you ask to make an appointment with a docto...    2.281   \n",
       "4  Access  When you arrange to see a doctor at your GP su...    2.395   \n",
       "\n",
       "   5,000 - 7,499  7,500 - 9,999  10,000+ COL1 COL2 COL3 COL4  \n",
       "0          0.484          0.356    0.363    +    -    -    -  \n",
       "1          0.668          0.558    0.521    +    -    -    -  \n",
       "2          0.859          0.766    0.653    +    -    -    -  \n",
       "3          0.473          0.425    0.531    +    -    -    -  \n",
       "4          0.510          0.425    0.370    +    -    -    -  "
      ]
     },
     "execution_count": 5,
     "metadata": {},
     "output_type": "execute_result"
    }
   ],
   "source": [
    "df_GPSize_OR.reset_index(drop=True,inplace = True)\n",
    "df_GPSize_OR=df_GPSize_OR.apply(pd.to_numeric, errors='ignore')\n",
    "df_GPSize_OR.info()\n",
    "df_GPSize_OR.head()"
   ]
  },
  {
   "cell_type": "code",
   "execution_count": 6,
   "metadata": {},
   "outputs": [
    {
     "data": {
      "text/html": [
       "<div>\n",
       "<style scoped>\n",
       "    .dataframe tbody tr th:only-of-type {\n",
       "        vertical-align: middle;\n",
       "    }\n",
       "\n",
       "    .dataframe tbody tr th {\n",
       "        vertical-align: top;\n",
       "    }\n",
       "\n",
       "    .dataframe thead th {\n",
       "        text-align: right;\n",
       "    }\n",
       "</style>\n",
       "<table border=\"1\" class=\"dataframe\">\n",
       "  <thead>\n",
       "    <tr style=\"text-align: right;\">\n",
       "      <th></th>\n",
       "      <th>&lt; 2,500</th>\n",
       "      <th>5,000 - 7,499</th>\n",
       "      <th>7,500 - 9,999</th>\n",
       "      <th>10,000+</th>\n",
       "    </tr>\n",
       "  </thead>\n",
       "  <tbody>\n",
       "    <tr>\n",
       "      <th>count</th>\n",
       "      <td>28.000000</td>\n",
       "      <td>28.000000</td>\n",
       "      <td>28.000000</td>\n",
       "      <td>28.000000</td>\n",
       "    </tr>\n",
       "    <tr>\n",
       "      <th>mean</th>\n",
       "      <td>1.582893</td>\n",
       "      <td>0.804964</td>\n",
       "      <td>0.714750</td>\n",
       "      <td>0.692214</td>\n",
       "    </tr>\n",
       "    <tr>\n",
       "      <th>std</th>\n",
       "      <td>0.602512</td>\n",
       "      <td>0.141613</td>\n",
       "      <td>0.154867</td>\n",
       "      <td>0.162202</td>\n",
       "    </tr>\n",
       "    <tr>\n",
       "      <th>min</th>\n",
       "      <td>1.053000</td>\n",
       "      <td>0.473000</td>\n",
       "      <td>0.356000</td>\n",
       "      <td>0.363000</td>\n",
       "    </tr>\n",
       "    <tr>\n",
       "      <th>25%</th>\n",
       "      <td>1.174750</td>\n",
       "      <td>0.764000</td>\n",
       "      <td>0.635250</td>\n",
       "      <td>0.593750</td>\n",
       "    </tr>\n",
       "    <tr>\n",
       "      <th>50%</th>\n",
       "      <td>1.354500</td>\n",
       "      <td>0.851000</td>\n",
       "      <td>0.768000</td>\n",
       "      <td>0.720000</td>\n",
       "    </tr>\n",
       "    <tr>\n",
       "      <th>75%</th>\n",
       "      <td>1.688250</td>\n",
       "      <td>0.916250</td>\n",
       "      <td>0.837750</td>\n",
       "      <td>0.825250</td>\n",
       "    </tr>\n",
       "    <tr>\n",
       "      <th>max</th>\n",
       "      <td>3.750000</td>\n",
       "      <td>0.958000</td>\n",
       "      <td>0.888000</td>\n",
       "      <td>0.917000</td>\n",
       "    </tr>\n",
       "  </tbody>\n",
       "</table>\n",
       "</div>"
      ],
      "text/plain": [
       "         < 2,500  5,000 - 7,499  7,500 - 9,999    10,000+\n",
       "count  28.000000      28.000000      28.000000  28.000000\n",
       "mean    1.582893       0.804964       0.714750   0.692214\n",
       "std     0.602512       0.141613       0.154867   0.162202\n",
       "min     1.053000       0.473000       0.356000   0.363000\n",
       "25%     1.174750       0.764000       0.635250   0.593750\n",
       "50%     1.354500       0.851000       0.768000   0.720000\n",
       "75%     1.688250       0.916250       0.837750   0.825250\n",
       "max     3.750000       0.958000       0.888000   0.917000"
      ]
     },
     "execution_count": 6,
     "metadata": {},
     "output_type": "execute_result"
    }
   ],
   "source": [
    "df_GPSize_OR.describe()"
   ]
  },
  {
   "cell_type": "markdown",
   "metadata": {},
   "source": [
    "# Statistical Questions"
   ]
  },
  {
   "cell_type": "markdown",
   "metadata": {},
   "source": [
    "How many rows and columns are in the dataset after cleaning?"
   ]
  },
  {
   "cell_type": "code",
   "execution_count": 7,
   "metadata": {},
   "outputs": [
    {
     "data": {
      "text/plain": [
       "(28, 10)"
      ]
     },
     "execution_count": 7,
     "metadata": {},
     "output_type": "execute_result"
    }
   ],
   "source": [
    "df_GPSize_OR.shape"
   ]
  },
  {
   "cell_type": "markdown",
   "metadata": {},
   "source": [
    "For each group, how many questions can be considered as associated with the GP Practice Size? The proportion?  And how many report positive experience, how many report negative experience? "
   ]
  },
  {
   "cell_type": "code",
   "execution_count": 8,
   "metadata": {},
   "outputs": [
    {
     "name": "stdout",
     "output_type": "stream",
     "text": [
      "For GP Practice Size smaller than 2500:  24 , 0.8571428571428571\n",
      "Positive: 24   Negative: 0\n",
      "For GP Practice Size in 5000-7499:  21 , 0.75\n",
      "Positive: 0   Negative: 21\n",
      "For GP Practice Size in 7500-9999:  28 , 1.0\n",
      "Positive: 0   Negative: 28\n",
      "For GP Practice Size larger than 10000:  25 , 0.8928571428571429\n",
      "Positive: 0   Negative: 25\n"
     ]
    }
   ],
   "source": [
    "df_2500 = df_GPSize_OR.loc[df_GPSize_OR['COL1']!='N']\n",
    "print('For GP Practice Size smaller than 2500: ',df_2500.shape[0],',',df_2500.shape[0]/df_GPSize_OR.shape[0] )\n",
    "print('Positive:', df_2500.loc[df_2500['< 2,500']>1].shape[0],' ','Negative:', df_2500.loc[df_2500['< 2,500']<1].shape[0])\n",
    "\n",
    "df_5000 = df_GPSize_OR.loc[df_GPSize_OR['COL2']!='N']\n",
    "print('For GP Practice Size in 5000-7499: ',df_5000.shape[0],',',df_5000.shape[0]/df_GPSize_OR.shape[0])\n",
    "print('Positive:', df_5000.loc[df_5000['5,000 - 7,499']>1].shape[0],' ','Negative:', df_5000.loc[df_5000['5,000 - 7,499']<1].shape[0])\n",
    "\n",
    "df_7500 = df_GPSize_OR.loc[df_GPSize_OR['COL3']!='N']\n",
    "print('For GP Practice Size in 7500-9999: ',df_7500.shape[0],',',df_7500.shape[0]/df_GPSize_OR.shape[0])\n",
    "print('Positive:', df_7500.loc[df_7500['7,500 - 9,999']>1].shape[0],' ','Negative:', df_7500.loc[df_7500['7,500 - 9,999']<1].shape[0])\n",
    "\n",
    "df_10000 = df_GPSize_OR.loc[df_GPSize_OR['COL4']!='N']\n",
    "print('For GP Practice Size larger than 10000: ',df_10000.shape[0],',',df_10000.shape[0]/df_GPSize_OR.shape[0])\n",
    "print('Positive:', df_10000.loc[df_10000['10,000+']>1].shape[0],' ','Negative:', df_10000.loc[df_10000['10,000+']<1].shape[0])\n"
   ]
  },
  {
   "cell_type": "markdown",
   "metadata": {},
   "source": [
    "Which group has the best experience? which group has the worst experience? "
   ]
  },
  {
   "cell_type": "code",
   "execution_count": 9,
   "metadata": {},
   "outputs": [
    {
     "name": "stdout",
     "output_type": "stream",
     "text": [
      "the size smaller than 2500 has best experience\n",
      "the size larger than 10000 has worst experience\n"
     ]
    }
   ],
   "source": [
    "meanVal = [np.mean(df_GPSize_OR['< 2,500']),np.mean(df_GPSize_OR['5,000 - 7,499']),np.mean(df_GPSize_OR['7,500 - 9,999']),np.mean(df_GPSize_OR['10,000+'])]\n",
    "best = np.argmax(meanVal)\n",
    "worst = np.argmin(meanVal)\n",
    "\n",
    "#find the group has best experience\n",
    "if best==0:\n",
    "    print(\"the size smaller than 2500 has best experience\")\n",
    "elif best ==1:\n",
    "    print(\"the size in 5000 - 7499 has best experience\")\n",
    "elif best == 2:\n",
    "    print(\"the size in 7500 - 9999 has best experience\")\n",
    "else:\n",
    "    print(\"the size larger than 10000 has best experience\")\n",
    "    \n",
    "#find the group has the worst experience\n",
    "if worst==0:\n",
    "    print(\"the size smaller than 2500 has worst experience\")\n",
    "elif worst ==1:\n",
    "    print(\"the size in 5000 - 7499 has worst experience\")\n",
    "elif worst == 2:\n",
    "    print(\"the size in 7500 - 9999 has worst experience\")\n",
    "else:\n",
    "    print(\"the size larger than 10000 has worst experience\")"
   ]
  },
  {
   "cell_type": "markdown",
   "metadata": {},
   "source": [
    "For different themes, are there difference for different groups?\n",
    "First, calculate the mean value for each theme for each group and use a new dataframe to store the result"
   ]
  },
  {
   "cell_type": "code",
   "execution_count": 10,
   "metadata": {},
   "outputs": [
    {
     "data": {
      "text/html": [
       "<div>\n",
       "<style scoped>\n",
       "    .dataframe tbody tr th:only-of-type {\n",
       "        vertical-align: middle;\n",
       "    }\n",
       "\n",
       "    .dataframe tbody tr th {\n",
       "        vertical-align: top;\n",
       "    }\n",
       "\n",
       "    .dataframe thead th {\n",
       "        text-align: right;\n",
       "    }\n",
       "</style>\n",
       "<table border=\"1\" class=\"dataframe\">\n",
       "  <thead>\n",
       "    <tr style=\"text-align: right;\">\n",
       "      <th></th>\n",
       "      <th>Theme</th>\n",
       "      <th>&lt; 2,500</th>\n",
       "      <th>5,000 - 7,499</th>\n",
       "      <th>7,500 - 9,999</th>\n",
       "      <th>10,000+</th>\n",
       "    </tr>\n",
       "  </thead>\n",
       "  <tbody>\n",
       "    <tr>\n",
       "      <th>0</th>\n",
       "      <td>Access</td>\n",
       "      <td>2.377571</td>\n",
       "      <td>0.617286</td>\n",
       "      <td>0.517000</td>\n",
       "      <td>0.487714</td>\n",
       "    </tr>\n",
       "    <tr>\n",
       "      <th>1</th>\n",
       "      <td>Referrals</td>\n",
       "      <td>1.098000</td>\n",
       "      <td>0.932000</td>\n",
       "      <td>0.854000</td>\n",
       "      <td>0.841000</td>\n",
       "    </tr>\n",
       "    <tr>\n",
       "      <th>2</th>\n",
       "      <td>At your GP surgery</td>\n",
       "      <td>1.682333</td>\n",
       "      <td>0.776333</td>\n",
       "      <td>0.676667</td>\n",
       "      <td>0.672667</td>\n",
       "    </tr>\n",
       "    <tr>\n",
       "      <th>3</th>\n",
       "      <td>Doctor</td>\n",
       "      <td>1.297000</td>\n",
       "      <td>0.919000</td>\n",
       "      <td>0.837500</td>\n",
       "      <td>0.811500</td>\n",
       "    </tr>\n",
       "    <tr>\n",
       "      <th>4</th>\n",
       "      <td>Nurse</td>\n",
       "      <td>1.217000</td>\n",
       "      <td>0.878500</td>\n",
       "      <td>0.795167</td>\n",
       "      <td>0.738000</td>\n",
       "    </tr>\n",
       "    <tr>\n",
       "      <th>5</th>\n",
       "      <td>Care and treatment</td>\n",
       "      <td>1.053000</td>\n",
       "      <td>0.925000</td>\n",
       "      <td>0.886000</td>\n",
       "      <td>0.917000</td>\n",
       "    </tr>\n",
       "    <tr>\n",
       "      <th>6</th>\n",
       "      <td>Medicines</td>\n",
       "      <td>1.205800</td>\n",
       "      <td>0.911800</td>\n",
       "      <td>0.845800</td>\n",
       "      <td>0.856000</td>\n",
       "    </tr>\n",
       "    <tr>\n",
       "      <th>7</th>\n",
       "      <td>Overall care</td>\n",
       "      <td>1.518333</td>\n",
       "      <td>0.788000</td>\n",
       "      <td>0.649667</td>\n",
       "      <td>0.620333</td>\n",
       "    </tr>\n",
       "  </tbody>\n",
       "</table>\n",
       "</div>"
      ],
      "text/plain": [
       "                Theme   < 2,500  5,000 - 7,499  7,500 - 9,999   10,000+\n",
       "0              Access  2.377571       0.617286       0.517000  0.487714\n",
       "1           Referrals  1.098000       0.932000       0.854000  0.841000\n",
       "2  At your GP surgery  1.682333       0.776333       0.676667  0.672667\n",
       "3              Doctor  1.297000       0.919000       0.837500  0.811500\n",
       "4               Nurse  1.217000       0.878500       0.795167  0.738000\n",
       "5  Care and treatment  1.053000       0.925000       0.886000  0.917000\n",
       "6           Medicines  1.205800       0.911800       0.845800  0.856000\n",
       "7        Overall care  1.518333       0.788000       0.649667  0.620333"
      ]
     },
     "execution_count": 10,
     "metadata": {},
     "output_type": "execute_result"
    }
   ],
   "source": [
    "theme = df_GPSize_OR.Theme.unique()\n",
    "df_theme = pd.DataFrame(columns=['Theme','< 2,500','5,000 - 7,499','7,500 - 9,999','10,000+'])\n",
    "index=0\n",
    "for item in theme:\n",
    "    df = df_GPSize_OR.loc[df_GPSize_OR['Theme']==item]\n",
    "    row = [item,np.mean(df['< 2,500']),np.mean(df['5,000 - 7,499']),np.mean(df['7,500 - 9,999']),np.mean(df['10,000+'])]\n",
    "    df_theme.loc[index] = row\n",
    "    index = index+1\n",
    "df_theme\n"
   ]
  },
  {
   "cell_type": "markdown",
   "metadata": {},
   "source": [
    "Calculate each group has best experience and worst experience in which theme."
   ]
  },
  {
   "cell_type": "code",
   "execution_count": 11,
   "metadata": {},
   "outputs": [
    {
     "name": "stdout",
     "output_type": "stream",
     "text": [
      "For GP Practice Size smaller than 2500:\n",
      "Best experience in： Access   worst experience in: Care and treatment\n",
      "For GP Practice Size in 5000-7499:\n",
      "Best experience in： Referrals   worst experience in: Access\n",
      "For GP Practice Size in 7500-9999:\n",
      "Best experience in： Care and treatment   worst experience in: Access\n",
      "For GP Practice Size larger than 10000:\n",
      "Best experience in： Care and treatment   worst experience in: Access\n"
     ]
    }
   ],
   "source": [
    "print('For GP Practice Size smaller than 2500:')\n",
    "print ('Best experience in：',df_theme.Theme[df_theme['< 2,500'].idxmax],' ','worst experience in:',df_theme.Theme[df_theme['< 2,500'].idxmin])\n",
    "\n",
    "print('For GP Practice Size in 5000-7499:')\n",
    "print ('Best experience in：',df_theme.Theme[df_theme['5,000 - 7,499'].idxmax],' ','worst experience in:',df_theme.Theme[df_theme['5,000 - 7,499'].idxmin])\n",
    "\n",
    "print('For GP Practice Size in 7500-9999:')\n",
    "print ('Best experience in：',df_theme.Theme[df_theme['7,500 - 9,999'].idxmax],' ','worst experience in:',df_theme.Theme[df_theme['7,500 - 9,999'].idxmin])\n",
    "\n",
    "print('For GP Practice Size larger than 10000:')\n",
    "print ('Best experience in：',df_theme.Theme[df_theme['10,000+'].idxmax],' ','worst experience in:',df_theme.Theme[df_theme['10,000+'].idxmin])\n"
   ]
  },
  {
   "cell_type": "markdown",
   "metadata": {},
   "source": [
    "# Graphs"
   ]
  },
  {
   "cell_type": "code",
   "execution_count": 12,
   "metadata": {},
   "outputs": [],
   "source": [
    "import scipy\n",
    "from scipy import stats\n",
    "\n",
    "import numpy as np\n",
    "import seaborn as sns     \n",
    "import matplotlib.pyplot as plt\n",
    "%matplotlib inline "
   ]
  },
  {
   "cell_type": "markdown",
   "metadata": {},
   "source": [
    "What is the odds ratio distribution for each group?"
   ]
  },
  {
   "cell_type": "code",
   "execution_count": 13,
   "metadata": {},
   "outputs": [
    {
     "data": {
      "text/plain": [
       "[Text(0.5,0,'Odds Ratio')]"
      ]
     },
     "execution_count": 13,
     "metadata": {},
     "output_type": "execute_result"
    },
    {
     "data": {
      "image/png": "[encoded data removed]",
      "text/plain": [
       "<Figure size 432x288 with 1 Axes>"
      ]
     },
     "metadata": {},
     "output_type": "display_data"
    }
   ],
   "source": [
    "\n",
    "myChart = sns.distplot(df_GPSize_OR['< 2,500'],axlabel=False,label=\"< 2,500\")\n",
    "myChart = sns.distplot(df_GPSize_OR['5,000 - 7,499'],axlabel=False,label=\"5,000 - 7,499\")\n",
    "\n",
    "myChart = sns.distplot(df_GPSize_OR['7,500 - 9,999'],axlabel=False,label=\"7,500 - 9,999\")\n",
    "\n",
    "myChart = sns.distplot(df_GPSize_OR['10,000+'],axlabel=False,label=\"10,000+\")\n",
    "\n",
    "\n",
    "plt.legend()\n",
    "\n",
    "myChart.set_title('Odds ratio for different GP Practice Size groups')\n",
    "myChart.set(xlabel='Odds Ratio')\n"
   ]
  },
  {
   "cell_type": "markdown",
   "metadata": {},
   "source": []
  },
  {
   "cell_type": "markdown",
   "metadata": {},
   "source": [
    "from statistical analysis, we know that when GR Practice size is smaller than 2500, for all questions, they have better experience than the base group while for other groups who have large GR Practice size, they all have worse experience. \n",
    "For this two kinds of groups(has better or worse experience), do they have the same trend for the same questions?"
   ]
  },
  {
   "cell_type": "code",
   "execution_count": 14,
   "metadata": {},
   "outputs": [
    {
     "name": "stdout",
     "output_type": "stream",
     "text": [
      "LinregressResult(slope=-3.67153478311371, intercept=4.53834723130714, rvalue=-0.8629479194745479, pvalue=3.4772904735760097e-09, stderr=0.4216184043417711)\n",
      "LinregressResult(slope=-3.432692868225613, intercept=4.036410084707113, rvalue=-0.8823250421789793, pvalue=5.373514431946422e-10, stderr=0.3590947071089675)\n",
      "LinregressResult(slope=-3.1608063813232383, intercept=3.770848188671679, rvalue=-0.8509211346650838, pvalue=9.662851990662171e-09, stderr=0.3826695498161458)\n"
     ]
    },
    {
     "data": {
      "image/png": "[encoded data removed]",
      "text/plain": [
       "<Figure size 864x360 with 3 Axes>"
      ]
     },
     "metadata": {},
     "output_type": "display_data"
    }
   ],
   "source": [
    "sns.pairplot(df_GPSize_OR, x_vars=[\"5,000 - 7,499\", \"7,500 - 9,999\",\"10,000+\"], y_vars=[\"< 2,500\"],\n",
    "             height=5, aspect=.8, kind=\"reg\")\n",
    "print(scipy.stats.linregress(df_GPSize_OR['5,000 - 7,499'],df_GPSize_OR['< 2,500']))\n",
    "print(scipy.stats.linregress(df_GPSize_OR['7,500 - 9,999'],df_GPSize_OR['< 2,500']))\n",
    "print(scipy.stats.linregress(df_GPSize_OR['10,000+'],df_GPSize_OR['< 2,500']))\n",
    "\n"
   ]
  },
  {
   "cell_type": "markdown",
   "metadata": {},
   "source": [
    "From the above plot, it is surpringly that these two groups have opposite trend for the same question. When small size group have a better experience in one question compared to other question, the large size group has worse experience in this question compared to other question."
   ]
  },
  {
   "cell_type": "markdown",
   "metadata": {},
   "source": [
    "   "
   ]
  },
  {
   "cell_type": "markdown",
   "metadata": {},
   "source": [
    "For each group, compare their experience in different themes."
   ]
  },
  {
   "cell_type": "code",
   "execution_count": 15,
   "metadata": {},
   "outputs": [
    {
     "data": {
      "text/plain": [
       "<matplotlib.axes._subplots.AxesSubplot at 0x7f7ad7eb2e10>"
      ]
     },
     "execution_count": 15,
     "metadata": {},
     "output_type": "execute_result"
    },
    {
     "data": {
      "image/png": "[encoded data removed]",
      "text/plain": [
       "<Figure size 1080x720 with 4 Axes>"
      ]
     },
     "metadata": {},
     "output_type": "display_data"
    }
   ],
   "source": [
    "f, axes = plt.subplots(2, 2, figsize=(15, 10), sharey=True)\n",
    "sns.barplot(x=\"Theme\", y=\"< 2,500\", data=df_theme,ax=axes[0, 0])\n",
    "sns.barplot(x=\"Theme\", y=\"5,000 - 7,499\", data=df_theme,ax=axes[0, 1])\n",
    "sns.barplot(x=\"Theme\", y=\"7,500 - 9,999\", data=df_theme,ax=axes[1, 0])\n",
    "sns.barplot(x=\"Theme\", y=\"10,000+\", data=df_theme,ax=axes[1, 1])"
   ]
  },
  {
   "cell_type": "markdown",
   "metadata": {},
   "source": [
    "For group size smaller than 2500 in which people overall have better experience, there is a strong experience difference in different themes while for group size larger than 5000 in which people overal have a worse experiencem, the experience difference between each theme is not that big."
   ]
  },
  {
   "cell_type": "markdown",
   "metadata": {},
   "source": [
    "     "
   ]
  },
  {
   "cell_type": "markdown",
   "metadata": {},
   "source": [
    "Explore the trend in each theme with the group size grows"
   ]
  },
  {
   "cell_type": "code",
   "execution_count": 16,
   "metadata": {},
   "outputs": [
    {
     "data": {
      "text/html": [
       "<div>\n",
       "<style scoped>\n",
       "    .dataframe tbody tr th:only-of-type {\n",
       "        vertical-align: middle;\n",
       "    }\n",
       "\n",
       "    .dataframe tbody tr th {\n",
       "        vertical-align: top;\n",
       "    }\n",
       "\n",
       "    .dataframe thead th {\n",
       "        text-align: right;\n",
       "    }\n",
       "</style>\n",
       "<table border=\"1\" class=\"dataframe\">\n",
       "  <thead>\n",
       "    <tr style=\"text-align: right;\">\n",
       "      <th></th>\n",
       "      <th>GroupSize</th>\n",
       "      <th>Access</th>\n",
       "      <th>Referrals</th>\n",
       "      <th>At your GP surgery</th>\n",
       "      <th>Doctor</th>\n",
       "      <th>Nurse</th>\n",
       "      <th>Care and treatment</th>\n",
       "      <th>Medicines</th>\n",
       "      <th>Overall care</th>\n",
       "    </tr>\n",
       "  </thead>\n",
       "  <tbody>\n",
       "    <tr>\n",
       "      <th>0</th>\n",
       "      <td>&lt; 2,500</td>\n",
       "      <td>2.377571</td>\n",
       "      <td>1.098</td>\n",
       "      <td>1.682333</td>\n",
       "      <td>1.2970</td>\n",
       "      <td>1.217000</td>\n",
       "      <td>1.053</td>\n",
       "      <td>1.2058</td>\n",
       "      <td>1.518333</td>\n",
       "    </tr>\n",
       "    <tr>\n",
       "      <th>1</th>\n",
       "      <td>5,000 - 7,499</td>\n",
       "      <td>0.617286</td>\n",
       "      <td>0.932</td>\n",
       "      <td>0.776333</td>\n",
       "      <td>0.9190</td>\n",
       "      <td>0.878500</td>\n",
       "      <td>0.925</td>\n",
       "      <td>0.9118</td>\n",
       "      <td>0.788000</td>\n",
       "    </tr>\n",
       "    <tr>\n",
       "      <th>2</th>\n",
       "      <td>7,500 - 9,999</td>\n",
       "      <td>0.517000</td>\n",
       "      <td>0.854</td>\n",
       "      <td>0.676667</td>\n",
       "      <td>0.8375</td>\n",
       "      <td>0.795167</td>\n",
       "      <td>0.886</td>\n",
       "      <td>0.8458</td>\n",
       "      <td>0.649667</td>\n",
       "    </tr>\n",
       "    <tr>\n",
       "      <th>3</th>\n",
       "      <td>10,000+</td>\n",
       "      <td>0.487714</td>\n",
       "      <td>0.841</td>\n",
       "      <td>0.672667</td>\n",
       "      <td>0.8115</td>\n",
       "      <td>0.738000</td>\n",
       "      <td>0.917</td>\n",
       "      <td>0.8560</td>\n",
       "      <td>0.620333</td>\n",
       "    </tr>\n",
       "  </tbody>\n",
       "</table>\n",
       "</div>"
      ],
      "text/plain": [
       "       GroupSize    Access  Referrals  At your GP surgery  Doctor     Nurse  \\\n",
       "0        < 2,500  2.377571      1.098            1.682333  1.2970  1.217000   \n",
       "1  5,000 - 7,499  0.617286      0.932            0.776333  0.9190  0.878500   \n",
       "2  7,500 - 9,999  0.517000      0.854            0.676667  0.8375  0.795167   \n",
       "3        10,000+  0.487714      0.841            0.672667  0.8115  0.738000   \n",
       "\n",
       "   Care and treatment  Medicines  Overall care  \n",
       "0               1.053     1.2058      1.518333  \n",
       "1               0.925     0.9118      0.788000  \n",
       "2               0.886     0.8458      0.649667  \n",
       "3               0.917     0.8560      0.620333  "
      ]
     },
     "execution_count": 16,
     "metadata": {},
     "output_type": "execute_result"
    }
   ],
   "source": [
    "df_theme_transposed = df_theme.set_index('Theme').T.rename_axis('GroupSize').rename_axis(None, 1).reset_index()\n",
    "df_theme_transposed"
   ]
  },
  {
   "cell_type": "code",
   "execution_count": 17,
   "metadata": {},
   "outputs": [
    {
     "data": {
      "image/png": "[encoded data removed]",
      "text/plain": [
       "<Figure size 720x720 with 1 Axes>"
      ]
     },
     "metadata": {},
     "output_type": "display_data"
    }
   ],
   "source": [
    "f, ax = plt.subplots(1, 1,figsize=(10, 10))\n",
    "sns.pointplot(ax=ax,x=\"GroupSize\", y=\"Access\", data=df_theme_transposed,color=\"red\")\n",
    "sns.pointplot(ax=ax,x=\"GroupSize\", y=\"Referrals\", data=df_theme_transposed,color=\"orchid\")\n",
    "sns.pointplot(ax=ax,x=\"GroupSize\", y=\"At your GP surgery\", data=df_theme_transposed,color=\"orange\")\n",
    "sns.pointplot(ax=ax,x=\"GroupSize\", y=\"Doctor\", data=df_theme_transposed,color=\"blue\")\n",
    "sns.pointplot(ax=ax,x=\"GroupSize\", y=\"Nurse\", data=df_theme_transposed,color=\"maroon\")\n",
    "sns.pointplot(ax=ax,x=\"GroupSize\", y=\"Care and treatment\", data=df_theme_transposed,color=\"green\")\n",
    "sns.pointplot(ax=ax,x=\"GroupSize\", y=\"Medicines\", data=df_theme_transposed,color=\"tan\")\n",
    "sns.pointplot(ax=ax,x=\"GroupSize\", y=\"Overall care\", data=df_theme_transposed,color=\"violet\")\n",
    "\n",
    "ax.legend(handles=ax.lines[::len(df_theme_transposed)+1], labels=[\"Access\",\"Referrals\",\"At your GP surgery\",\"Doctor\",\"Nurse\",\"Care and treatment\",\"Medicines\",\"Overall care\"])\n",
    "ax.set_xticklabels([t.get_text().split(\"T\")[0] for t in ax.get_xticklabels()])\n",
    "plt.gcf().autofmt_xdate()\n",
    "\n",
    "plt.show()"
   ]
  },
  {
   "cell_type": "markdown",
   "metadata": {},
   "source": [
    "From the above graph, we can see that, overall with the group size grows, the experience gets worse. The biggest difference lies in \"Acess\". For \"Care and treatment\", the difference is very small in all four groups. When the group size >5000, the overall experience in the three groups have small difference."
   ]
  },
  {
   "cell_type": "markdown",
   "metadata": {},
   "source": [
    "# Reflection and Hypothesise"
   ]
  },
  {
   "cell_type": "markdown",
   "metadata": {},
   "source": [
    "Reflection"
   ]
  },
  {
   "cell_type": "markdown",
   "metadata": {},
   "source": [
    "Our data is a relatively clear data, the data holder has nicely analysed the raw data and gave us the final result of the survey. What they want us to do is to create an attractive data visualization for them to understand these good and bad aspects better. \n",
    "From the above analysis, I have some general conclusion for this, and I think this is related to what our data holder want because the audiences who may be the policy makers can improve the situation based on these findings.\n",
    "1. In general, the larger the practice list, the less positive experiences that people had. \n",
    "2. The difference in experiences was greatest for questions that related to accessing GP services.\n",
    "\n",
    "Before dealing with the data, I need to understand what the odds ratios is because I didn't know this before. Understanding the meaning of the data is a very significant part in every data analysis.\n",
    "\n",
    "When dealing with the data, I spent a lot of time on cleaning the data because the Excel file we got has many redundant information and will make the analysing process rather difficult. After discoveing the relationship between the variables in the sheet, I can clean the data and make it easier to deal with.I think this may also be a interesting part for our data holder to know because it will help them organize the data better in the future.\n"
   ]
  },
  {
   "cell_type": "markdown",
   "metadata": {},
   "source": [
    "Hypothesise"
   ]
  },
  {
   "cell_type": "markdown",
   "metadata": {},
   "source": [
    "1. Part of the reason for people having less positive experiences at larger practices relates to difficulties in being able to make appointments. There was a notable difference in experiences between smaller and larger practices over being able to get through on the phone(Acess theme,answer for question1 in the sheet). Those at smaller practices were much more positive(>3). \n",
    "This finding may be due to smaller practices being better able to manage the volume of calls which will generally be lower. \n",
    "To test this hypothesise, I think we can first survey how much phone calls a practice can answer in a day and how many people will call the practice in a day. Survey this data in different practice with different size and see whether this hypothesise is true."
   ]
  },
  {
   "cell_type": "markdown",
   "metadata": {},
   "source": [
    "2.  Negative experiences around access in larger practices may be more to do with perceived lower levels of continuity of care where patients may be less likely to see the same doctor each time. People in smaller practices may report positive experiences because they are more likely to get to know the practice staff and so it will be easier for them to build good relationships. To test this hypothesise, we can give another survey about the relationships between patients and GP Practice to know how well the practice know about their registers and how well the registers know about their practice."
   ]
  },
  {
   "cell_type": "markdown",
   "metadata": {},
   "source": [
    "3. I think in \"care and treatment\" part, the difference is not that big in practice with different size can demostrate that the resources allocation for different practice is relatively equal. This is a good aspect about equality. To test this hypothesise, we can survey the education backgroud of the doctors and nurses, the medical equipments and the environment in different GP Practice. This will give us a more clear understanding about this hypothesise. "
   ]
  }
 ],
 "metadata": {
  "kernelspec": {
   "display_name": "Python 3",
   "language": "python",
   "name": "python3"
  },
  "language_info": {
   "codemirror_mode": {
    "name": "ipython",
    "version": 3
   },
   "file_extension": ".py",
   "mimetype": "text/x-python",
   "name": "python",
   "nbconvert_exporter": "python",
   "pygments_lexer": "ipython3",
   "version": "3.6.5"
  }
 },
 "nbformat": 4,
 "nbformat_minor": 2
}
